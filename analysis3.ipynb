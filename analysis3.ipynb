{
 "cells": [
  {
   "cell_type": "markdown",
   "metadata": {},
   "source": [
    "# Do students from South Indian states really excel at Math and Science?"
   ]
  },
  {
   "cell_type": "code",
   "execution_count": 52,
   "metadata": {
    "collapsed": true
   },
   "outputs": [],
   "source": [
    "import pandas as pd\n",
    "import numpy as np\n",
    "import matplotlib.pyplot as plt\n",
    "import warnings\n",
    "np.random.seed(5)\n",
    "pd.set_option('chained_assignment',None)\n",
    "%matplotlib notebook"
   ]
  },
  {
   "cell_type": "code",
   "execution_count": 53,
   "metadata": {
    "collapsed": true
   },
   "outputs": [],
   "source": [
    "df1 = pd.read_csv(\"./dataset/nas-columns.csv\")"
   ]
  },
  {
   "cell_type": "code",
   "execution_count": 54,
   "metadata": {
    "scrolled": true
   },
   "outputs": [
    {
     "data": {
      "text/html": [
       "<div>\n",
       "<style>\n",
       "    .dataframe thead tr:only-child th {\n",
       "        text-align: right;\n",
       "    }\n",
       "\n",
       "    .dataframe thead th {\n",
       "        text-align: left;\n",
       "    }\n",
       "\n",
       "    .dataframe tbody tr th {\n",
       "        vertical-align: top;\n",
       "    }\n",
       "</style>\n",
       "<table border=\"1\" class=\"dataframe\">\n",
       "  <thead>\n",
       "    <tr style=\"text-align: right;\">\n",
       "      <th></th>\n",
       "      <th>Name</th>\n",
       "      <th>Rename</th>\n",
       "      <th>Type</th>\n",
       "    </tr>\n",
       "  </thead>\n",
       "  <tbody>\n",
       "    <tr>\n",
       "      <th>0</th>\n",
       "      <td>PQ2</td>\n",
       "      <td>Gender</td>\n",
       "      <td>Group</td>\n",
       "    </tr>\n",
       "    <tr>\n",
       "      <th>1</th>\n",
       "      <td>DIST</td>\n",
       "      <td>District</td>\n",
       "      <td>NaN</td>\n",
       "    </tr>\n",
       "    <tr>\n",
       "      <th>2</th>\n",
       "      <td>STATE</td>\n",
       "      <td>State</td>\n",
       "      <td>NaN</td>\n",
       "    </tr>\n",
       "    <tr>\n",
       "      <th>3</th>\n",
       "      <td>PQ3</td>\n",
       "      <td>Age</td>\n",
       "      <td>Group</td>\n",
       "    </tr>\n",
       "    <tr>\n",
       "      <th>4</th>\n",
       "      <td>PQ4</td>\n",
       "      <td>Category</td>\n",
       "      <td>NaN</td>\n",
       "    </tr>\n",
       "  </tbody>\n",
       "</table>\n",
       "</div>"
      ],
      "text/plain": [
       "    Name    Rename   Type\n",
       "0    PQ2    Gender  Group\n",
       "1   DIST  District    NaN\n",
       "2  STATE     State    NaN\n",
       "3    PQ3       Age  Group\n",
       "4    PQ4  Category    NaN"
      ]
     },
     "execution_count": 54,
     "metadata": {},
     "output_type": "execute_result"
    }
   ],
   "source": [
    "df1.head(5)"
   ]
  },
  {
   "cell_type": "code",
   "execution_count": 55,
   "metadata": {
    "scrolled": false
   },
   "outputs": [
    {
     "data": {
      "text/html": [
       "<div>\n",
       "<style>\n",
       "    .dataframe thead tr:only-child th {\n",
       "        text-align: right;\n",
       "    }\n",
       "\n",
       "    .dataframe thead th {\n",
       "        text-align: left;\n",
       "    }\n",
       "\n",
       "    .dataframe tbody tr th {\n",
       "        vertical-align: top;\n",
       "    }\n",
       "</style>\n",
       "<table border=\"1\" class=\"dataframe\">\n",
       "  <thead>\n",
       "    <tr style=\"text-align: right;\">\n",
       "      <th></th>\n",
       "      <th>Column</th>\n",
       "      <th>Name</th>\n",
       "      <th>Level</th>\n",
       "      <th>Rename</th>\n",
       "    </tr>\n",
       "  </thead>\n",
       "  <tbody>\n",
       "    <tr>\n",
       "      <th>208</th>\n",
       "      <td>State</td>\n",
       "      <td>AN</td>\n",
       "      <td>AN</td>\n",
       "      <td>Andaman &amp; Nicobar</td>\n",
       "    </tr>\n",
       "    <tr>\n",
       "      <th>209</th>\n",
       "      <td>State</td>\n",
       "      <td>AP</td>\n",
       "      <td>AP</td>\n",
       "      <td>Andhra Pradesh</td>\n",
       "    </tr>\n",
       "    <tr>\n",
       "      <th>210</th>\n",
       "      <td>State</td>\n",
       "      <td>AR</td>\n",
       "      <td>AR</td>\n",
       "      <td>Arunachal Pradesh</td>\n",
       "    </tr>\n",
       "    <tr>\n",
       "      <th>211</th>\n",
       "      <td>State</td>\n",
       "      <td>BR</td>\n",
       "      <td>BR</td>\n",
       "      <td>Bihar</td>\n",
       "    </tr>\n",
       "    <tr>\n",
       "      <th>212</th>\n",
       "      <td>State</td>\n",
       "      <td>CG</td>\n",
       "      <td>CG</td>\n",
       "      <td>Chattisgarh</td>\n",
       "    </tr>\n",
       "    <tr>\n",
       "      <th>213</th>\n",
       "      <td>State</td>\n",
       "      <td>CH</td>\n",
       "      <td>CH</td>\n",
       "      <td>Chandigarh</td>\n",
       "    </tr>\n",
       "    <tr>\n",
       "      <th>214</th>\n",
       "      <td>State</td>\n",
       "      <td>DD</td>\n",
       "      <td>DD</td>\n",
       "      <td>Daman &amp; Diu</td>\n",
       "    </tr>\n",
       "    <tr>\n",
       "      <th>215</th>\n",
       "      <td>State</td>\n",
       "      <td>DL</td>\n",
       "      <td>DL</td>\n",
       "      <td>Delhi</td>\n",
       "    </tr>\n",
       "    <tr>\n",
       "      <th>216</th>\n",
       "      <td>State</td>\n",
       "      <td>DN</td>\n",
       "      <td>DN</td>\n",
       "      <td>Dadra &amp; Nagar Haveli</td>\n",
       "    </tr>\n",
       "    <tr>\n",
       "      <th>217</th>\n",
       "      <td>State</td>\n",
       "      <td>GA</td>\n",
       "      <td>GA</td>\n",
       "      <td>Goa</td>\n",
       "    </tr>\n",
       "    <tr>\n",
       "      <th>218</th>\n",
       "      <td>State</td>\n",
       "      <td>GJ</td>\n",
       "      <td>GJ</td>\n",
       "      <td>Gujarat</td>\n",
       "    </tr>\n",
       "    <tr>\n",
       "      <th>219</th>\n",
       "      <td>State</td>\n",
       "      <td>HP</td>\n",
       "      <td>HP</td>\n",
       "      <td>Himachal Pradesh</td>\n",
       "    </tr>\n",
       "    <tr>\n",
       "      <th>220</th>\n",
       "      <td>State</td>\n",
       "      <td>HR</td>\n",
       "      <td>HR</td>\n",
       "      <td>Haryana</td>\n",
       "    </tr>\n",
       "    <tr>\n",
       "      <th>221</th>\n",
       "      <td>State</td>\n",
       "      <td>JH</td>\n",
       "      <td>JH</td>\n",
       "      <td>Jharkhand</td>\n",
       "    </tr>\n",
       "    <tr>\n",
       "      <th>222</th>\n",
       "      <td>State</td>\n",
       "      <td>JK</td>\n",
       "      <td>JK</td>\n",
       "      <td>Jammu &amp; Kashmir</td>\n",
       "    </tr>\n",
       "    <tr>\n",
       "      <th>223</th>\n",
       "      <td>State</td>\n",
       "      <td>KA</td>\n",
       "      <td>KA</td>\n",
       "      <td>Karnataka</td>\n",
       "    </tr>\n",
       "    <tr>\n",
       "      <th>224</th>\n",
       "      <td>State</td>\n",
       "      <td>KL</td>\n",
       "      <td>KL</td>\n",
       "      <td>Kerala</td>\n",
       "    </tr>\n",
       "    <tr>\n",
       "      <th>225</th>\n",
       "      <td>State</td>\n",
       "      <td>MG</td>\n",
       "      <td>MG</td>\n",
       "      <td>Meghalaya</td>\n",
       "    </tr>\n",
       "    <tr>\n",
       "      <th>226</th>\n",
       "      <td>State</td>\n",
       "      <td>MH</td>\n",
       "      <td>MH</td>\n",
       "      <td>Maharashtra</td>\n",
       "    </tr>\n",
       "    <tr>\n",
       "      <th>227</th>\n",
       "      <td>State</td>\n",
       "      <td>MN</td>\n",
       "      <td>MN</td>\n",
       "      <td>Manipur</td>\n",
       "    </tr>\n",
       "    <tr>\n",
       "      <th>228</th>\n",
       "      <td>State</td>\n",
       "      <td>MP</td>\n",
       "      <td>MP</td>\n",
       "      <td>Madhya Pradesh</td>\n",
       "    </tr>\n",
       "    <tr>\n",
       "      <th>229</th>\n",
       "      <td>State</td>\n",
       "      <td>MZ</td>\n",
       "      <td>MZ</td>\n",
       "      <td>Mizoram</td>\n",
       "    </tr>\n",
       "    <tr>\n",
       "      <th>230</th>\n",
       "      <td>State</td>\n",
       "      <td>NG</td>\n",
       "      <td>NG</td>\n",
       "      <td>Nagaland</td>\n",
       "    </tr>\n",
       "    <tr>\n",
       "      <th>231</th>\n",
       "      <td>State</td>\n",
       "      <td>OR</td>\n",
       "      <td>OR</td>\n",
       "      <td>Orissa</td>\n",
       "    </tr>\n",
       "    <tr>\n",
       "      <th>232</th>\n",
       "      <td>State</td>\n",
       "      <td>PB</td>\n",
       "      <td>PB</td>\n",
       "      <td>Punjab</td>\n",
       "    </tr>\n",
       "    <tr>\n",
       "      <th>233</th>\n",
       "      <td>State</td>\n",
       "      <td>PY</td>\n",
       "      <td>PY</td>\n",
       "      <td>Pondicherry</td>\n",
       "    </tr>\n",
       "    <tr>\n",
       "      <th>234</th>\n",
       "      <td>State</td>\n",
       "      <td>RJ</td>\n",
       "      <td>RJ</td>\n",
       "      <td>Rajasthan</td>\n",
       "    </tr>\n",
       "    <tr>\n",
       "      <th>235</th>\n",
       "      <td>State</td>\n",
       "      <td>SK</td>\n",
       "      <td>SK</td>\n",
       "      <td>Sikkim</td>\n",
       "    </tr>\n",
       "    <tr>\n",
       "      <th>236</th>\n",
       "      <td>State</td>\n",
       "      <td>TN</td>\n",
       "      <td>TN</td>\n",
       "      <td>Tamil Nadu</td>\n",
       "    </tr>\n",
       "    <tr>\n",
       "      <th>237</th>\n",
       "      <td>State</td>\n",
       "      <td>TR</td>\n",
       "      <td>TR</td>\n",
       "      <td>Tripura</td>\n",
       "    </tr>\n",
       "    <tr>\n",
       "      <th>238</th>\n",
       "      <td>State</td>\n",
       "      <td>UK</td>\n",
       "      <td>UK</td>\n",
       "      <td>Uttarakhand</td>\n",
       "    </tr>\n",
       "    <tr>\n",
       "      <th>239</th>\n",
       "      <td>State</td>\n",
       "      <td>UP</td>\n",
       "      <td>UP</td>\n",
       "      <td>Uttar Pradesh</td>\n",
       "    </tr>\n",
       "    <tr>\n",
       "      <th>240</th>\n",
       "      <td>State</td>\n",
       "      <td>WB</td>\n",
       "      <td>WB</td>\n",
       "      <td>West Bengal</td>\n",
       "    </tr>\n",
       "  </tbody>\n",
       "</table>\n",
       "</div>"
      ],
      "text/plain": [
       "    Column Name Level                Rename\n",
       "208  State   AN    AN     Andaman & Nicobar\n",
       "209  State   AP    AP        Andhra Pradesh\n",
       "210  State   AR    AR     Arunachal Pradesh\n",
       "211  State   BR    BR                 Bihar\n",
       "212  State   CG    CG           Chattisgarh\n",
       "213  State   CH    CH            Chandigarh\n",
       "214  State   DD    DD           Daman & Diu\n",
       "215  State   DL    DL                 Delhi\n",
       "216  State   DN    DN  Dadra & Nagar Haveli\n",
       "217  State   GA    GA                   Goa\n",
       "218  State   GJ    GJ               Gujarat\n",
       "219  State   HP    HP      Himachal Pradesh\n",
       "220  State   HR    HR               Haryana\n",
       "221  State   JH    JH             Jharkhand\n",
       "222  State   JK    JK       Jammu & Kashmir\n",
       "223  State   KA    KA             Karnataka\n",
       "224  State   KL    KL                Kerala\n",
       "225  State   MG    MG             Meghalaya\n",
       "226  State   MH    MH           Maharashtra\n",
       "227  State   MN    MN               Manipur\n",
       "228  State   MP    MP        Madhya Pradesh\n",
       "229  State   MZ    MZ               Mizoram\n",
       "230  State   NG    NG              Nagaland\n",
       "231  State   OR    OR                Orissa\n",
       "232  State   PB    PB                Punjab\n",
       "233  State   PY    PY           Pondicherry\n",
       "234  State   RJ    RJ             Rajasthan\n",
       "235  State   SK    SK                Sikkim\n",
       "236  State   TN    TN            Tamil Nadu\n",
       "237  State   TR    TR               Tripura\n",
       "238  State   UK    UK           Uttarakhand\n",
       "239  State   UP    UP         Uttar Pradesh\n",
       "240  State   WB    WB           West Bengal"
      ]
     },
     "execution_count": 55,
     "metadata": {},
     "output_type": "execute_result"
    }
   ],
   "source": [
    "df2 = pd.read_csv('./dataset/nas-labels.csv')\n",
    "df2[df2['Column']==\"State\"]"
   ]
  },
  {
   "cell_type": "code",
   "execution_count": 56,
   "metadata": {
    "collapsed": true
   },
   "outputs": [],
   "source": [
    "df3 = pd.read_csv(\"./dataset/nas-pupil-marks.csv\")"
   ]
  },
  {
   "cell_type": "code",
   "execution_count": 57,
   "metadata": {
    "scrolled": true
   },
   "outputs": [
    {
     "data": {
      "text/html": [
       "<div>\n",
       "<style>\n",
       "    .dataframe thead tr:only-child th {\n",
       "        text-align: right;\n",
       "    }\n",
       "\n",
       "    .dataframe thead th {\n",
       "        text-align: left;\n",
       "    }\n",
       "\n",
       "    .dataframe tbody tr th {\n",
       "        vertical-align: top;\n",
       "    }\n",
       "</style>\n",
       "<table border=\"1\" class=\"dataframe\">\n",
       "  <thead>\n",
       "    <tr style=\"text-align: right;\">\n",
       "      <th></th>\n",
       "      <th>STUID</th>\n",
       "      <th>State</th>\n",
       "      <th>District</th>\n",
       "      <th>Gender</th>\n",
       "      <th>Age</th>\n",
       "      <th>Category</th>\n",
       "      <th>Same language</th>\n",
       "      <th>Siblings</th>\n",
       "      <th>Handicap</th>\n",
       "      <th>Father edu</th>\n",
       "      <th>...</th>\n",
       "      <th>Express science views</th>\n",
       "      <th>Watch TV</th>\n",
       "      <th>Read magazine</th>\n",
       "      <th>Read a book</th>\n",
       "      <th>Play games</th>\n",
       "      <th>Help in household</th>\n",
       "      <th>Maths %</th>\n",
       "      <th>Reading %</th>\n",
       "      <th>Science %</th>\n",
       "      <th>Social %</th>\n",
       "    </tr>\n",
       "  </thead>\n",
       "  <tbody>\n",
       "    <tr>\n",
       "      <th>0</th>\n",
       "      <td>11011001001</td>\n",
       "      <td>AP</td>\n",
       "      <td>1</td>\n",
       "      <td>1</td>\n",
       "      <td>3</td>\n",
       "      <td>3</td>\n",
       "      <td>1</td>\n",
       "      <td>5</td>\n",
       "      <td>2</td>\n",
       "      <td>1</td>\n",
       "      <td>...</td>\n",
       "      <td>3</td>\n",
       "      <td>3</td>\n",
       "      <td>4</td>\n",
       "      <td>3</td>\n",
       "      <td>4</td>\n",
       "      <td>4</td>\n",
       "      <td>20.37</td>\n",
       "      <td>NaN</td>\n",
       "      <td>27.78</td>\n",
       "      <td>NaN</td>\n",
       "    </tr>\n",
       "    <tr>\n",
       "      <th>1</th>\n",
       "      <td>11011001002</td>\n",
       "      <td>AP</td>\n",
       "      <td>1</td>\n",
       "      <td>2</td>\n",
       "      <td>3</td>\n",
       "      <td>4</td>\n",
       "      <td>2</td>\n",
       "      <td>5</td>\n",
       "      <td>2</td>\n",
       "      <td>2</td>\n",
       "      <td>...</td>\n",
       "      <td>3</td>\n",
       "      <td>4</td>\n",
       "      <td>4</td>\n",
       "      <td>3</td>\n",
       "      <td>4</td>\n",
       "      <td>4</td>\n",
       "      <td>12.96</td>\n",
       "      <td>NaN</td>\n",
       "      <td>38.18</td>\n",
       "      <td>NaN</td>\n",
       "    </tr>\n",
       "    <tr>\n",
       "      <th>2</th>\n",
       "      <td>11011001003</td>\n",
       "      <td>AP</td>\n",
       "      <td>1</td>\n",
       "      <td>2</td>\n",
       "      <td>3</td>\n",
       "      <td>4</td>\n",
       "      <td>2</td>\n",
       "      <td>5</td>\n",
       "      <td>2</td>\n",
       "      <td>1</td>\n",
       "      <td>...</td>\n",
       "      <td>3</td>\n",
       "      <td>4</td>\n",
       "      <td>3</td>\n",
       "      <td>3</td>\n",
       "      <td>4</td>\n",
       "      <td>4</td>\n",
       "      <td>27.78</td>\n",
       "      <td>70.00</td>\n",
       "      <td>NaN</td>\n",
       "      <td>NaN</td>\n",
       "    </tr>\n",
       "    <tr>\n",
       "      <th>3</th>\n",
       "      <td>11011001004</td>\n",
       "      <td>AP</td>\n",
       "      <td>1</td>\n",
       "      <td>2</td>\n",
       "      <td>3</td>\n",
       "      <td>3</td>\n",
       "      <td>2</td>\n",
       "      <td>4</td>\n",
       "      <td>2</td>\n",
       "      <td>1</td>\n",
       "      <td>...</td>\n",
       "      <td>3</td>\n",
       "      <td>4</td>\n",
       "      <td>3</td>\n",
       "      <td>3</td>\n",
       "      <td>4</td>\n",
       "      <td>4</td>\n",
       "      <td>NaN</td>\n",
       "      <td>56.67</td>\n",
       "      <td>NaN</td>\n",
       "      <td>36.00</td>\n",
       "    </tr>\n",
       "    <tr>\n",
       "      <th>4</th>\n",
       "      <td>11011001005</td>\n",
       "      <td>AP</td>\n",
       "      <td>1</td>\n",
       "      <td>2</td>\n",
       "      <td>3</td>\n",
       "      <td>3</td>\n",
       "      <td>2</td>\n",
       "      <td>5</td>\n",
       "      <td>2</td>\n",
       "      <td>1</td>\n",
       "      <td>...</td>\n",
       "      <td>3</td>\n",
       "      <td>2</td>\n",
       "      <td>3</td>\n",
       "      <td>3</td>\n",
       "      <td>4</td>\n",
       "      <td>4</td>\n",
       "      <td>NaN</td>\n",
       "      <td>NaN</td>\n",
       "      <td>14.55</td>\n",
       "      <td>8.33</td>\n",
       "    </tr>\n",
       "  </tbody>\n",
       "</table>\n",
       "<p>5 rows × 64 columns</p>\n",
       "</div>"
      ],
      "text/plain": [
       "         STUID State  District  Gender  Age  Category  Same language  \\\n",
       "0  11011001001    AP         1       1    3         3              1   \n",
       "1  11011001002    AP         1       2    3         4              2   \n",
       "2  11011001003    AP         1       2    3         4              2   \n",
       "3  11011001004    AP         1       2    3         3              2   \n",
       "4  11011001005    AP         1       2    3         3              2   \n",
       "\n",
       "   Siblings  Handicap  Father edu    ...     Express science views  Watch TV  \\\n",
       "0         5         2           1    ...                         3         3   \n",
       "1         5         2           2    ...                         3         4   \n",
       "2         5         2           1    ...                         3         4   \n",
       "3         4         2           1    ...                         3         4   \n",
       "4         5         2           1    ...                         3         2   \n",
       "\n",
       "   Read magazine  Read a book  Play games Help in household  Maths %  \\\n",
       "0              4            3           4                 4    20.37   \n",
       "1              4            3           4                 4    12.96   \n",
       "2              3            3           4                 4    27.78   \n",
       "3              3            3           4                 4      NaN   \n",
       "4              3            3           4                 4      NaN   \n",
       "\n",
       "   Reading %  Science %  Social %  \n",
       "0        NaN      27.78       NaN  \n",
       "1        NaN      38.18       NaN  \n",
       "2      70.00        NaN       NaN  \n",
       "3      56.67        NaN     36.00  \n",
       "4        NaN      14.55      8.33  \n",
       "\n",
       "[5 rows x 64 columns]"
      ]
     },
     "execution_count": 57,
     "metadata": {},
     "output_type": "execute_result"
    }
   ],
   "source": [
    "df3.head(5)"
   ]
  },
  {
   "cell_type": "code",
   "execution_count": 58,
   "metadata": {},
   "outputs": [
    {
     "data": {
      "text/plain": [
       "Index(['STUID', 'State', 'District', 'Gender', 'Age', 'Category',\n",
       "       'Same language', 'Siblings', 'Handicap', 'Father edu', 'Mother edu',\n",
       "       'Father occupation', 'Mother occupation', 'Below poverty',\n",
       "       'Use calculator', 'Use computer', 'Use Internet', 'Use dictionary',\n",
       "       'Read other books', '# Books', 'Distance', 'Computer use',\n",
       "       'Library use', 'Like school', 'Subjects', 'Give Lang HW',\n",
       "       'Give Math HW', 'Give Scie HW', 'Give SoSc HW', 'Correct Lang HW',\n",
       "       'Correct Math HW', 'Correct Scie HW', 'Correct SocS HW',\n",
       "       'Help in Study', 'Private tuition', 'English is difficult',\n",
       "       'Read English', 'Dictionary to learn', 'Answer English WB',\n",
       "       'Answer English aloud', 'Maths is difficult', 'Solve Maths',\n",
       "       'Solve Maths in groups', 'Draw geometry', 'Explain answers',\n",
       "       'SocSci is difficult', 'Historical excursions', 'Participate in SocSci',\n",
       "       'Small groups in SocSci', 'Express SocSci views',\n",
       "       'Science is difficult', 'Observe experiments', 'Conduct experiments',\n",
       "       'Solve science problems', 'Express science views', 'Watch TV',\n",
       "       'Read magazine', 'Read a book', 'Play games', 'Help in household',\n",
       "       'Maths %', 'Reading %', 'Science %', 'Social %'],\n",
       "      dtype='object')"
      ]
     },
     "execution_count": 58,
     "metadata": {},
     "output_type": "execute_result"
    }
   ],
   "source": [
    "df3.columns"
   ]
  },
  {
   "cell_type": "code",
   "execution_count": 59,
   "metadata": {
    "collapsed": true
   },
   "outputs": [],
   "source": [
    "dfx = df3[['STUID', 'State']]"
   ]
  },
  {
   "cell_type": "markdown",
   "metadata": {},
   "source": [
    "# remove 'STUID', 'State', 'District' from the Dataset"
   ]
  },
  {
   "cell_type": "code",
   "execution_count": 60,
   "metadata": {
    "collapsed": true
   },
   "outputs": [],
   "source": [
    "nd = df3[['Gender', 'Age', 'Category',\n",
    "       'Same language', 'Siblings', 'Handicap', 'Father edu', 'Mother edu',\n",
    "       'Father occupation', 'Mother occupation', 'Below poverty',\n",
    "       'Use calculator', 'Use computer', 'Use Internet', 'Use dictionary',\n",
    "       'Read other books', '# Books', 'Distance', 'Computer use',\n",
    "       'Library use', 'Like school', 'Subjects', 'Give Lang HW',\n",
    "       'Give Math HW', 'Give Scie HW', 'Give SoSc HW', 'Correct Lang HW',\n",
    "       'Correct Math HW', 'Correct Scie HW', 'Correct SocS HW',\n",
    "       'Help in Study', 'Private tuition', 'English is difficult',\n",
    "       'Read English', 'Dictionary to learn', 'Answer English WB',\n",
    "       'Answer English aloud', 'Maths is difficult', 'Solve Maths',\n",
    "       'Solve Maths in groups', 'Draw geometry', 'Explain answers',\n",
    "       'SocSci is difficult', 'Historical excursions', 'Participate in SocSci',\n",
    "       'Small groups in SocSci', 'Express SocSci views',\n",
    "       'Science is difficult', 'Observe experiments', 'Conduct experiments',\n",
    "       'Solve science problems', 'Express science views', 'Watch TV',\n",
    "       'Read magazine', 'Read a book', 'Play games', 'Help in household',\n",
    "       'Maths %', 'Reading %', 'Science %', 'Social %']]"
   ]
  },
  {
   "cell_type": "markdown",
   "metadata": {},
   "source": [
    "# Maping Categorical of 'use computer' and 'Subjects' to numerical value"
   ]
  },
  {
   "cell_type": "code",
   "execution_count": 61,
   "metadata": {
    "collapsed": true
   },
   "outputs": [],
   "source": [
    "nd['Use computer'] = nd['Use computer'].map({\"Yes\":1,\"No\":0})\n",
    "nd['Subjects'] = nd['Subjects'].map({'L':1, 'S':2, 'O':3, 'M':4, '0':0})"
   ]
  },
  {
   "cell_type": "markdown",
   "metadata": {},
   "source": [
    "# Preprosessing NaN value "
   ]
  },
  {
   "cell_type": "code",
   "execution_count": 62,
   "metadata": {
    "collapsed": true
   },
   "outputs": [],
   "source": [
    "from sklearn.preprocessing import Imputer"
   ]
  },
  {
   "cell_type": "code",
   "execution_count": 63,
   "metadata": {
    "collapsed": true
   },
   "outputs": [],
   "source": [
    "imp = Imputer(missing_values='NaN', strategy='mean', axis=0)\n",
    "imp.fit(nd)\n",
    "tx = imp.transform(nd) "
   ]
  },
  {
   "cell_type": "markdown",
   "metadata": {},
   "source": [
    "# Thresholding"
   ]
  },
  {
   "cell_type": "code",
   "execution_count": 64,
   "metadata": {
    "collapsed": true
   },
   "outputs": [],
   "source": [
    "dc=['Gender', 'Age', 'Category',\n",
    "       'Same language', 'Siblings', 'Handicap', 'Father edu', 'Mother edu',\n",
    "       'Father occupation', 'Mother occupation', 'Below poverty',\n",
    "       'Use calculator', 'Use computer', 'Use Internet', 'Use dictionary',\n",
    "       'Read other books', '# Books', 'Distance', 'Computer use',\n",
    "       'Library use', 'Like school', 'Subjects', 'Give Lang HW',\n",
    "       'Give Math HW', 'Give Scie HW', 'Give SoSc HW', 'Correct Lang HW',\n",
    "       'Correct Math HW', 'Correct Scie HW', 'Correct SocS HW',\n",
    "       'Help in Study', 'Private tuition', 'English is difficult',\n",
    "       'Read English', 'Dictionary to learn', 'Answer English WB',\n",
    "       'Answer English aloud', 'Maths is difficult', 'Solve Maths',\n",
    "       'Solve Maths in groups', 'Draw geometry', 'Explain answers',\n",
    "       'SocSci is difficult', 'Historical excursions', 'Participate in SocSci',\n",
    "       'Small groups in SocSci', 'Express SocSci views',\n",
    "       'Science is difficult', 'Observe experiments', 'Conduct experiments',\n",
    "       'Solve science problems', 'Express science views', 'Watch TV',\n",
    "       'Read magazine', 'Read a book', 'Play games', 'Help in household',\n",
    "       'Maths %', 'Reading %', 'Science %', 'Social %']\n",
    "data = pd.DataFrame(tx,columns=dc)"
   ]
  },
  {
   "cell_type": "code",
   "execution_count": 65,
   "metadata": {},
   "outputs": [
    {
     "data": {
      "text/html": [
       "<div>\n",
       "<style>\n",
       "    .dataframe thead tr:only-child th {\n",
       "        text-align: right;\n",
       "    }\n",
       "\n",
       "    .dataframe thead th {\n",
       "        text-align: left;\n",
       "    }\n",
       "\n",
       "    .dataframe tbody tr th {\n",
       "        vertical-align: top;\n",
       "    }\n",
       "</style>\n",
       "<table border=\"1\" class=\"dataframe\">\n",
       "  <thead>\n",
       "    <tr style=\"text-align: right;\">\n",
       "      <th></th>\n",
       "      <th>Gender</th>\n",
       "      <th>Age</th>\n",
       "      <th>Category</th>\n",
       "      <th>Same language</th>\n",
       "      <th>Siblings</th>\n",
       "      <th>Handicap</th>\n",
       "      <th>Father edu</th>\n",
       "      <th>Mother edu</th>\n",
       "      <th>Father occupation</th>\n",
       "      <th>Mother occupation</th>\n",
       "      <th>...</th>\n",
       "      <th>Express science views</th>\n",
       "      <th>Watch TV</th>\n",
       "      <th>Read magazine</th>\n",
       "      <th>Read a book</th>\n",
       "      <th>Play games</th>\n",
       "      <th>Help in household</th>\n",
       "      <th>Maths %</th>\n",
       "      <th>Reading %</th>\n",
       "      <th>Science %</th>\n",
       "      <th>Social %</th>\n",
       "    </tr>\n",
       "  </thead>\n",
       "  <tbody>\n",
       "    <tr>\n",
       "      <th>0</th>\n",
       "      <td>1.0</td>\n",
       "      <td>3.0</td>\n",
       "      <td>3.0</td>\n",
       "      <td>1.0</td>\n",
       "      <td>5.0</td>\n",
       "      <td>2.0</td>\n",
       "      <td>1.0</td>\n",
       "      <td>1.0</td>\n",
       "      <td>3.0</td>\n",
       "      <td>3.0</td>\n",
       "      <td>...</td>\n",
       "      <td>3.0</td>\n",
       "      <td>3.0</td>\n",
       "      <td>4.0</td>\n",
       "      <td>3.0</td>\n",
       "      <td>4.0</td>\n",
       "      <td>4.0</td>\n",
       "      <td>20.37</td>\n",
       "      <td>46.208704</td>\n",
       "      <td>27.78</td>\n",
       "      <td>38.357868</td>\n",
       "    </tr>\n",
       "    <tr>\n",
       "      <th>1</th>\n",
       "      <td>2.0</td>\n",
       "      <td>3.0</td>\n",
       "      <td>4.0</td>\n",
       "      <td>2.0</td>\n",
       "      <td>5.0</td>\n",
       "      <td>2.0</td>\n",
       "      <td>2.0</td>\n",
       "      <td>1.0</td>\n",
       "      <td>7.0</td>\n",
       "      <td>3.0</td>\n",
       "      <td>...</td>\n",
       "      <td>3.0</td>\n",
       "      <td>4.0</td>\n",
       "      <td>4.0</td>\n",
       "      <td>3.0</td>\n",
       "      <td>4.0</td>\n",
       "      <td>4.0</td>\n",
       "      <td>12.96</td>\n",
       "      <td>46.208704</td>\n",
       "      <td>38.18</td>\n",
       "      <td>38.357868</td>\n",
       "    </tr>\n",
       "  </tbody>\n",
       "</table>\n",
       "<p>2 rows × 61 columns</p>\n",
       "</div>"
      ],
      "text/plain": [
       "   Gender  Age  Category  Same language  Siblings  Handicap  Father edu  \\\n",
       "0     1.0  3.0       3.0            1.0       5.0       2.0         1.0   \n",
       "1     2.0  3.0       4.0            2.0       5.0       2.0         2.0   \n",
       "\n",
       "   Mother edu  Father occupation  Mother occupation    ...      \\\n",
       "0         1.0                3.0                3.0    ...       \n",
       "1         1.0                7.0                3.0    ...       \n",
       "\n",
       "   Express science views  Watch TV  Read magazine  Read a book  Play games  \\\n",
       "0                    3.0       3.0            4.0          3.0         4.0   \n",
       "1                    3.0       4.0            4.0          3.0         4.0   \n",
       "\n",
       "   Help in household  Maths %  Reading %  Science %   Social %  \n",
       "0                4.0    20.37  46.208704      27.78  38.357868  \n",
       "1                4.0    12.96  46.208704      38.18  38.357868  \n",
       "\n",
       "[2 rows x 61 columns]"
      ]
     },
     "execution_count": 65,
     "metadata": {},
     "output_type": "execute_result"
    }
   ],
   "source": [
    "data.head(2)"
   ]
  },
  {
   "cell_type": "code",
   "execution_count": 66,
   "metadata": {
    "collapsed": true
   },
   "outputs": [],
   "source": [
    "# Create a new column name stClass which defines as the best performance student\n",
    "# as 1 : consider best performance\n",
    "# as 0 : consider poor performance"
   ]
  },
  {
   "cell_type": "code",
   "execution_count": 67,
   "metadata": {
    "collapsed": true
   },
   "outputs": [],
   "source": [
    "# Find the Performance by adding the Math, Science"
   ]
  },
  {
   "cell_type": "code",
   "execution_count": 68,
   "metadata": {
    "collapsed": true
   },
   "outputs": [],
   "source": [
    "math    = np.array(data[\"Maths %\"]).astype(\"float\")\n",
    "Science = np.array(data[\"Science %\"]).astype(\"float\")\n",
    "performance = (math+Science)"
   ]
  },
  {
   "cell_type": "code",
   "execution_count": 76,
   "metadata": {},
   "outputs": [
    {
     "data": {
      "text/plain": [
       "(array([  1110,   1136,   2689,   7468,   7472,   8322,  12212,  12956,\n",
       "         14543,  15922,  20795,  24577,  24744,  24754,  30237,  30580,\n",
       "         45061,  50028,  53457,  57458,  57462,  57465,  57477,  58757,\n",
       "         61565,  61744,  62753,  65448,  67953,  67985,  69555,  76131,\n",
       "         77580,  79409,  87013,  88852,  88856,  94804,  97496, 109322,\n",
       "        117676, 118061, 119109, 120004, 122112, 124986, 124990, 124991,\n",
       "        124995, 125060, 125429, 125434, 125443, 128076, 129684, 130482,\n",
       "        130973, 132029, 132290, 137058, 137846, 141280, 142527, 142585,\n",
       "        142938, 143298, 144136, 145039, 150861, 151213, 152231, 153006,\n",
       "        153361, 154454, 154457, 154486, 154491, 154898, 154998, 156869,\n",
       "        158114, 159292, 160060, 161811, 167524, 168952, 170622, 181490]),)"
      ]
     },
     "execution_count": 76,
     "metadata": {},
     "output_type": "execute_result"
    }
   ],
   "source": [
    "np.where(math==np.min(math))"
   ]
  },
  {
   "cell_type": "code",
   "execution_count": 77,
   "metadata": {},
   "outputs": [
    {
     "data": {
      "text/plain": [
       "(array([    31,   1808,   3312,   7475,   8315,  13538,  13663,  15448,\n",
       "         15452,  18149,  18188,  18552,  19113,  22971,  25137,  26062,\n",
       "         26627,  27893,  28319,  54196,  55045,  57357,  57361,  57393,\n",
       "         57457,  57462,  57465,  57466,  57469,  57483,  59606,  60661,\n",
       "         62009,  62778,  63956,  65311,  70430,  70649,  70772,  70781,\n",
       "         76128,  81830,  84307,  87708,  96123,  97925,  98657, 115324,\n",
       "        117071, 117322, 117542, 120538, 124616, 124985, 125069, 125442,\n",
       "        126052, 132031, 132055, 132613, 133147, 133709, 139066, 139402,\n",
       "        140669, 142241, 142908, 143385, 144018, 144935, 146222, 148734,\n",
       "        150577, 151439, 152235, 152342, 152447, 153163, 153340, 153672,\n",
       "        153680, 153915, 153931, 153943, 154619, 154988, 154991, 155061,\n",
       "        155568, 155581, 157354, 157743, 158075, 158265, 158794, 160053,\n",
       "        163640, 167975, 170132, 170855, 177134, 181468, 181734]),)"
      ]
     },
     "execution_count": 77,
     "metadata": {},
     "output_type": "execute_result"
    }
   ],
   "source": [
    "np.where(Science==np.min(Science))"
   ]
  },
  {
   "cell_type": "code",
   "execution_count": 69,
   "metadata": {
    "collapsed": true
   },
   "outputs": [],
   "source": [
    "bestPerformance = np.max(performance)\n",
    "poorPerformance = np.min(performance)\n",
    "avgPerformance  = np.average(performance)"
   ]
  },
  {
   "cell_type": "code",
   "execution_count": 70,
   "metadata": {},
   "outputs": [
    {
     "data": {
      "text/plain": [
       "0.0"
      ]
     },
     "execution_count": 70,
     "metadata": {},
     "output_type": "execute_result"
    }
   ],
   "source": [
    "poorPerformance"
   ]
  },
  {
   "cell_type": "code",
   "execution_count": 19,
   "metadata": {
    "collapsed": true
   },
   "outputs": [],
   "source": [
    "# Find the Thresholing"
   ]
  },
  {
   "cell_type": "code",
   "execution_count": 34,
   "metadata": {
    "collapsed": true
   },
   "outputs": [],
   "source": [
    "Threshold = bestPerformance-avgPerformance\n",
    "super_threshold_indices = performance > Threshold\n",
    "a = np.copy(performance)\n",
    "a[super_threshold_indices] = 1\n",
    "a[~super_threshold_indices]= 0"
   ]
  },
  {
   "cell_type": "code",
   "execution_count": 35,
   "metadata": {
    "collapsed": true
   },
   "outputs": [],
   "source": [
    "# now check all student whos performance greater than 200 are consider as best"
   ]
  },
  {
   "cell_type": "code",
   "execution_count": 36,
   "metadata": {
    "collapsed": true
   },
   "outputs": [],
   "source": [
    "performance = pd.DataFrame(performance,columns=[\"performance\"])\n",
    "Stclass     = pd.DataFrame(a,columns=[\"Stclass\"])\n",
    "state = pd.DataFrame(np.array(df3['State']),columns=[\"state\"])"
   ]
  },
  {
   "cell_type": "code",
   "execution_count": 37,
   "metadata": {
    "collapsed": true
   },
   "outputs": [],
   "source": [
    "modDf = pd.concat([state,data,performance,Stclass],axis=1)"
   ]
  },
  {
   "cell_type": "code",
   "execution_count": 38,
   "metadata": {
    "scrolled": true
   },
   "outputs": [
    {
     "data": {
      "text/html": [
       "<div>\n",
       "<style>\n",
       "    .dataframe thead tr:only-child th {\n",
       "        text-align: right;\n",
       "    }\n",
       "\n",
       "    .dataframe thead th {\n",
       "        text-align: left;\n",
       "    }\n",
       "\n",
       "    .dataframe tbody tr th {\n",
       "        vertical-align: top;\n",
       "    }\n",
       "</style>\n",
       "<table border=\"1\" class=\"dataframe\">\n",
       "  <thead>\n",
       "    <tr style=\"text-align: right;\">\n",
       "      <th></th>\n",
       "      <th>state</th>\n",
       "      <th>Gender</th>\n",
       "      <th>Age</th>\n",
       "      <th>Category</th>\n",
       "      <th>Same language</th>\n",
       "      <th>Siblings</th>\n",
       "      <th>Handicap</th>\n",
       "      <th>Father edu</th>\n",
       "      <th>Mother edu</th>\n",
       "      <th>Father occupation</th>\n",
       "      <th>...</th>\n",
       "      <th>Read magazine</th>\n",
       "      <th>Read a book</th>\n",
       "      <th>Play games</th>\n",
       "      <th>Help in household</th>\n",
       "      <th>Maths %</th>\n",
       "      <th>Reading %</th>\n",
       "      <th>Science %</th>\n",
       "      <th>Social %</th>\n",
       "      <th>performance</th>\n",
       "      <th>Stclass</th>\n",
       "    </tr>\n",
       "  </thead>\n",
       "  <tbody>\n",
       "    <tr>\n",
       "      <th>0</th>\n",
       "      <td>AP</td>\n",
       "      <td>1.0</td>\n",
       "      <td>3.0</td>\n",
       "      <td>3.0</td>\n",
       "      <td>1.0</td>\n",
       "      <td>5.0</td>\n",
       "      <td>2.0</td>\n",
       "      <td>1.0</td>\n",
       "      <td>1.0</td>\n",
       "      <td>3.0</td>\n",
       "      <td>...</td>\n",
       "      <td>4.0</td>\n",
       "      <td>3.0</td>\n",
       "      <td>4.0</td>\n",
       "      <td>4.0</td>\n",
       "      <td>20.370000</td>\n",
       "      <td>46.208704</td>\n",
       "      <td>27.780000</td>\n",
       "      <td>38.357868</td>\n",
       "      <td>48.150000</td>\n",
       "      <td>0.0</td>\n",
       "    </tr>\n",
       "    <tr>\n",
       "      <th>1</th>\n",
       "      <td>AP</td>\n",
       "      <td>2.0</td>\n",
       "      <td>3.0</td>\n",
       "      <td>4.0</td>\n",
       "      <td>2.0</td>\n",
       "      <td>5.0</td>\n",
       "      <td>2.0</td>\n",
       "      <td>2.0</td>\n",
       "      <td>1.0</td>\n",
       "      <td>7.0</td>\n",
       "      <td>...</td>\n",
       "      <td>4.0</td>\n",
       "      <td>3.0</td>\n",
       "      <td>4.0</td>\n",
       "      <td>4.0</td>\n",
       "      <td>12.960000</td>\n",
       "      <td>46.208704</td>\n",
       "      <td>38.180000</td>\n",
       "      <td>38.357868</td>\n",
       "      <td>51.140000</td>\n",
       "      <td>0.0</td>\n",
       "    </tr>\n",
       "    <tr>\n",
       "      <th>2</th>\n",
       "      <td>AP</td>\n",
       "      <td>2.0</td>\n",
       "      <td>3.0</td>\n",
       "      <td>4.0</td>\n",
       "      <td>2.0</td>\n",
       "      <td>5.0</td>\n",
       "      <td>2.0</td>\n",
       "      <td>1.0</td>\n",
       "      <td>1.0</td>\n",
       "      <td>0.0</td>\n",
       "      <td>...</td>\n",
       "      <td>3.0</td>\n",
       "      <td>3.0</td>\n",
       "      <td>4.0</td>\n",
       "      <td>4.0</td>\n",
       "      <td>27.780000</td>\n",
       "      <td>70.000000</td>\n",
       "      <td>36.414637</td>\n",
       "      <td>38.357868</td>\n",
       "      <td>64.194637</td>\n",
       "      <td>0.0</td>\n",
       "    </tr>\n",
       "    <tr>\n",
       "      <th>3</th>\n",
       "      <td>AP</td>\n",
       "      <td>2.0</td>\n",
       "      <td>3.0</td>\n",
       "      <td>3.0</td>\n",
       "      <td>2.0</td>\n",
       "      <td>4.0</td>\n",
       "      <td>2.0</td>\n",
       "      <td>1.0</td>\n",
       "      <td>1.0</td>\n",
       "      <td>3.0</td>\n",
       "      <td>...</td>\n",
       "      <td>3.0</td>\n",
       "      <td>3.0</td>\n",
       "      <td>4.0</td>\n",
       "      <td>4.0</td>\n",
       "      <td>32.244413</td>\n",
       "      <td>56.670000</td>\n",
       "      <td>36.414637</td>\n",
       "      <td>36.000000</td>\n",
       "      <td>68.659051</td>\n",
       "      <td>0.0</td>\n",
       "    </tr>\n",
       "    <tr>\n",
       "      <th>4</th>\n",
       "      <td>AP</td>\n",
       "      <td>2.0</td>\n",
       "      <td>3.0</td>\n",
       "      <td>3.0</td>\n",
       "      <td>2.0</td>\n",
       "      <td>5.0</td>\n",
       "      <td>2.0</td>\n",
       "      <td>1.0</td>\n",
       "      <td>1.0</td>\n",
       "      <td>3.0</td>\n",
       "      <td>...</td>\n",
       "      <td>3.0</td>\n",
       "      <td>3.0</td>\n",
       "      <td>4.0</td>\n",
       "      <td>4.0</td>\n",
       "      <td>32.244413</td>\n",
       "      <td>46.208704</td>\n",
       "      <td>14.550000</td>\n",
       "      <td>8.330000</td>\n",
       "      <td>46.794413</td>\n",
       "      <td>0.0</td>\n",
       "    </tr>\n",
       "  </tbody>\n",
       "</table>\n",
       "<p>5 rows × 64 columns</p>\n",
       "</div>"
      ],
      "text/plain": [
       "  state  Gender  Age  Category  Same language  Siblings  Handicap  Father edu  \\\n",
       "0    AP     1.0  3.0       3.0            1.0       5.0       2.0         1.0   \n",
       "1    AP     2.0  3.0       4.0            2.0       5.0       2.0         2.0   \n",
       "2    AP     2.0  3.0       4.0            2.0       5.0       2.0         1.0   \n",
       "3    AP     2.0  3.0       3.0            2.0       4.0       2.0         1.0   \n",
       "4    AP     2.0  3.0       3.0            2.0       5.0       2.0         1.0   \n",
       "\n",
       "   Mother edu  Father occupation   ...     Read magazine  Read a book  \\\n",
       "0         1.0                3.0   ...               4.0          3.0   \n",
       "1         1.0                7.0   ...               4.0          3.0   \n",
       "2         1.0                0.0   ...               3.0          3.0   \n",
       "3         1.0                3.0   ...               3.0          3.0   \n",
       "4         1.0                3.0   ...               3.0          3.0   \n",
       "\n",
       "   Play games  Help in household    Maths %  Reading %  Science %   Social %  \\\n",
       "0         4.0                4.0  20.370000  46.208704  27.780000  38.357868   \n",
       "1         4.0                4.0  12.960000  46.208704  38.180000  38.357868   \n",
       "2         4.0                4.0  27.780000  70.000000  36.414637  38.357868   \n",
       "3         4.0                4.0  32.244413  56.670000  36.414637  36.000000   \n",
       "4         4.0                4.0  32.244413  46.208704  14.550000   8.330000   \n",
       "\n",
       "   performance  Stclass  \n",
       "0    48.150000      0.0  \n",
       "1    51.140000      0.0  \n",
       "2    64.194637      0.0  \n",
       "3    68.659051      0.0  \n",
       "4    46.794413      0.0  \n",
       "\n",
       "[5 rows x 64 columns]"
      ]
     },
     "execution_count": 38,
     "metadata": {},
     "output_type": "execute_result"
    }
   ],
   "source": [
    "modDf.head(5)"
   ]
  },
  {
   "cell_type": "code",
   "execution_count": 39,
   "metadata": {},
   "outputs": [
    {
     "data": {
      "text/plain": [
       "array(['AP', 'AR', 'BR', 'CG', 'DL', 'GA', 'GJ', 'HR', 'HP', 'JK', 'JH',\n",
       "       'KA', 'KL', 'MP', 'MH', 'MN', 'MG', 'MZ', 'NG', 'OR', 'PB', 'RJ',\n",
       "       'SK', 'TN', 'TR', 'UP', 'UK', 'WB', 'AN', 'CH', 'PY', 'DN', 'DD'], dtype=object)"
      ]
     },
     "execution_count": 39,
     "metadata": {},
     "output_type": "execute_result"
    }
   ],
   "source": [
    "sNm=modDf.state.unique()\n",
    "sNm"
   ]
  },
  {
   "cell_type": "code",
   "execution_count": 40,
   "metadata": {
    "collapsed": true
   },
   "outputs": [],
   "source": [
    "southInd = ['AP','GA','KA','KL','PY','TN']"
   ]
  },
  {
   "cell_type": "code",
   "execution_count": 41,
   "metadata": {
    "collapsed": true
   },
   "outputs": [],
   "source": [
    "def girlVsboy(modDf,state_name):\n",
    "    state_           = modDf[modDf[\"state\"]==state_name]\n",
    "    state_boy        = state_[state_['Gender']==1].reset_index(drop=True)\n",
    "    state_girl       = state_[state_['Gender']==2].reset_index(drop=True)\n",
    "    performance_boy  = state_boy['Stclass']\n",
    "    performance_girl = state_girl['Stclass']\n",
    "    return (performance_girl,performance_boy)"
   ]
  },
  {
   "cell_type": "code",
   "execution_count": 42,
   "metadata": {
    "collapsed": true
   },
   "outputs": [],
   "source": [
    "Total_nof_bestPrfmGr=[]\n",
    "Total_nof_bestPrfmBy=[]\n",
    "Total_nof_poorPrfmGr=[]\n",
    "Total_nof_poorPrfmBy=[]\n",
    "\n",
    "for i in southInd:\n",
    "    tmp   = girlVsboy(modDf,i)\n",
    "    bestG = np.sum(tmp[0])\n",
    "    bestB = np.sum(tmp[1])\n",
    "    poorG = len(tmp[0])-bestG\n",
    "    poorB = len(tmp[1])-bestB\n",
    "    Total_nof_bestPrfmGr.append(bestG)\n",
    "    Total_nof_bestPrfmBy.append(bestB)\n",
    "    Total_nof_poorPrfmGr.append(poorG)\n",
    "    Total_nof_poorPrfmBy.append(poorB)"
   ]
  },
  {
   "cell_type": "code",
   "execution_count": 43,
   "metadata": {
    "collapsed": true
   },
   "outputs": [],
   "source": [
    "import plotly.plotly as py\n",
    "import plotly.graph_objs as go"
   ]
  },
  {
   "cell_type": "code",
   "execution_count": 46,
   "metadata": {},
   "outputs": [
    {
     "data": {
      "text/html": [
       "<iframe id=\"igraph\" scrolling=\"no\" style=\"border:none;\" seamless=\"seamless\" src=\"https://plot.ly/~ayon.mi1/8.embed\" height=\"525px\" width=\"100%\"></iframe>"
      ],
      "text/plain": [
       "<plotly.tools.PlotlyDisplay object>"
      ]
     },
     "execution_count": 46,
     "metadata": {},
     "output_type": "execute_result"
    }
   ],
   "source": [
    "trace1 = go.Bar(\n",
    "    x = sNm,\n",
    "    y = Total_nof_bestPrfmGr,\n",
    "    name='Girl'\n",
    ")\n",
    "trace2 = go.Bar(\n",
    "    x = sNm,\n",
    "    y = Total_nof_bestPrfmBy,\n",
    "    name='Boy'\n",
    ")\n",
    "\n",
    "data = [trace1, trace2]\n",
    "layout = go.Layout(\n",
    "    barmode='group',\n",
    "    title='Best Performance of Girls and Boys South India',\n",
    "    xaxis=dict(\n",
    "        title='States',\n",
    "        titlefont=dict(\n",
    "            family='Courier New, monospace',\n",
    "            size=18,\n",
    "            color='#7f7f7f'\n",
    "        )\n",
    "    ),\n",
    "    yaxis=dict(\n",
    "        title='No of Student',\n",
    "        titlefont=dict(\n",
    "            family='Courier New, monospace',\n",
    "            size=18,\n",
    "            color='#7f7f7f'\n",
    "        )\n",
    "    )\n",
    ")\n",
    "\n",
    "fig = go.Figure(data=data, layout=layout)\n",
    "py.iplot(fig, filename='Best_Performance_of_Girls_and_Boys_South_India')"
   ]
  },
  {
   "cell_type": "code",
   "execution_count": 47,
   "metadata": {},
   "outputs": [
    {
     "data": {
      "text/html": [
       "<iframe id=\"igraph\" scrolling=\"no\" style=\"border:none;\" seamless=\"seamless\" src=\"https://plot.ly/~ayon.mi1/4.embed\" height=\"525px\" width=\"100%\"></iframe>"
      ],
      "text/plain": [
       "<plotly.tools.PlotlyDisplay object>"
      ]
     },
     "execution_count": 47,
     "metadata": {},
     "output_type": "execute_result"
    }
   ],
   "source": [
    "trace1 = go.Bar(\n",
    "    x = sNm,\n",
    "    y = Total_nof_poorPrfmGr,\n",
    "    name='Girl'\n",
    ")\n",
    "trace2 = go.Bar(\n",
    "    x = sNm,\n",
    "    y = Total_nof_poorPrfmBy,\n",
    "    name='Boy'\n",
    ")\n",
    "\n",
    "data = [trace1, trace2]\n",
    "layout = go.Layout(\n",
    "    barmode='group',\n",
    "    title='Poor Performance of Girls and Boys South India',\n",
    "    xaxis=dict(\n",
    "        title='States',\n",
    "        titlefont=dict(\n",
    "            family='Courier New, monospace',\n",
    "            size=18,\n",
    "            color='#7f7f7f'\n",
    "        )\n",
    "    ),\n",
    "    yaxis=dict(\n",
    "        title='No of Student',\n",
    "        titlefont=dict(\n",
    "            family='Courier New, monospace',\n",
    "            size=18,\n",
    "            color='#7f7f7f'\n",
    "        )\n",
    "    )\n",
    ")\n",
    "\n",
    "fig = go.Figure(data=data, layout=layout)\n",
    "py.iplot(fig, filename='Poor_Performance_of_Girls_and_Boys_over_states')"
   ]
  },
  {
   "cell_type": "code",
   "execution_count": null,
   "metadata": {
    "collapsed": true
   },
   "outputs": [],
   "source": []
  }
 ],
 "metadata": {
  "kernelspec": {
   "display_name": "Python [conda root]",
   "language": "python",
   "name": "conda-root-py"
  },
  "language_info": {
   "codemirror_mode": {
    "name": "ipython",
    "version": 3
   },
   "file_extension": ".py",
   "mimetype": "text/x-python",
   "name": "python",
   "nbconvert_exporter": "python",
   "pygments_lexer": "ipython3",
   "version": "3.5.3"
  }
 },
 "nbformat": 4,
 "nbformat_minor": 2
}
